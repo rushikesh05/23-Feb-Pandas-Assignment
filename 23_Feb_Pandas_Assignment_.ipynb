{
  "nbformat": 4,
  "nbformat_minor": 0,
  "metadata": {
    "colab": {
      "provenance": []
    },
    "kernelspec": {
      "name": "python3",
      "display_name": "Python 3"
    },
    "language_info": {
      "name": "python"
    }
  },
  "cells": [
    {
      "cell_type": "markdown",
      "source": [
        "##Q1. Create a Pandas Series that contains the following data: 4, 8, 15, 16, 23, and 42. Then, print the series."
      ],
      "metadata": {
        "id": "Vp_0hprPXISk"
      }
    },
    {
      "cell_type": "code",
      "execution_count": 1,
      "metadata": {
        "colab": {
          "base_uri": "https://localhost:8080/"
        },
        "id": "b3MSfgbMW6jR",
        "outputId": "5a0c486d-dd61-4f2b-82e7-873260294d12"
      },
      "outputs": [
        {
          "output_type": "stream",
          "name": "stdout",
          "text": [
            "0     4\n",
            "1     8\n",
            "2    15\n",
            "3    16\n",
            "4    23\n",
            "5    42\n",
            "dtype: int64\n"
          ]
        }
      ],
      "source": [
        "import pandas as pd\n",
        "\n",
        "data = [4, 8, 15, 16, 23, 42]\n",
        "s = pd.Series(data)\n",
        "\n",
        "print(s)\n"
      ]
    },
    {
      "cell_type": "markdown",
      "source": [
        "##Q2. Create a variable of list type containing 10 elements in it, and apply pandas.Series function on the variable print it."
      ],
      "metadata": {
        "id": "cl9-HbzlXQDt"
      }
    },
    {
      "cell_type": "code",
      "source": [
        "import pandas as pd\n",
        "\n",
        "my_list = [10, 20, 30, 40, 50, 60, 70, 80, 90, 100]\n",
        "s = pd.Series(my_list)\n",
        "\n",
        "print(s)\n"
      ],
      "metadata": {
        "colab": {
          "base_uri": "https://localhost:8080/"
        },
        "id": "qSmz-p6SXGlS",
        "outputId": "c9954e24-e240-49d3-8e84-bb31ecdf4f06"
      },
      "execution_count": 2,
      "outputs": [
        {
          "output_type": "stream",
          "name": "stdout",
          "text": [
            "0     10\n",
            "1     20\n",
            "2     30\n",
            "3     40\n",
            "4     50\n",
            "5     60\n",
            "6     70\n",
            "7     80\n",
            "8     90\n",
            "9    100\n",
            "dtype: int64\n"
          ]
        }
      ]
    },
    {
      "cell_type": "markdown",
      "source": [
        "##Q.3 Create a Pandas DataFrame that contains the following data: Then, print the DataFrame."
      ],
      "metadata": {
        "id": "PbqV4PHpYP8t"
      }
    },
    {
      "cell_type": "code",
      "source": [
        "import pandas as pd\n",
        "\n",
        "data = {'Name': ['Alice', 'Bob', 'Claire'],\n",
        "        'Age': [25, 30, 27],\n",
        "        'Gender': ['Female','Male','Female']}\n",
        "\n",
        "df = pd.DataFrame(data)\n",
        "\n",
        "print(df)\n"
      ],
      "metadata": {
        "colab": {
          "base_uri": "https://localhost:8080/"
        },
        "id": "XKWtVcZFYBh4",
        "outputId": "2d656e97-ddbf-4501-873a-4eb332968224"
      },
      "execution_count": 3,
      "outputs": [
        {
          "output_type": "stream",
          "name": "stdout",
          "text": [
            "     Name  Age  Gender\n",
            "0   Alice   25  Female\n",
            "1     Bob   30    Male\n",
            "2  Claire   27  Female\n"
          ]
        }
      ]
    },
    {
      "cell_type": "markdown",
      "source": [
        "##Q4. What is ‘DataFrame’ in pandas and how is it different from pandas.series? Explain with an example.\n",
        "\n",
        "* In pandas, a DataFrame is a two-dimensional, size-mutable, tabular data structure with labeled axes (rows and columns). It can be thought of as a spreadsheet or SQL table. Each column in a DataFrame is a Pandas Series object.\n",
        "\n",
        "* A Pandas Series is a one-dimensional labeled array capable of holding data of any type (integer, string, float, etc.). It is similar to a column in a spreadsheet or a database table.\n",
        "\n",
        "####Here's an example that demonstrates the difference between a Pandas Series and a DataFrame:"
      ],
      "metadata": {
        "id": "Q1K95oNmjgDI"
      }
    },
    {
      "cell_type": "code",
      "source": [
        "import pandas as pd\n",
        "\n",
        "# Create a Pandas Series\n",
        "s = pd.Series([10, 20, 30, 40, 50])\n",
        "\n",
        "# Create a Pandas DataFrame\n",
        "data = {'Name': ['Alice', 'Bob', 'Claire'],\n",
        "        'Age': [25, 30, 27],\n",
        "        'Gender': ['Female','Male','Female']}\n",
        "df = pd.DataFrame(data)\n",
        "\n",
        "# Print the Pandas Series and DataFrame\n",
        "print(s)\n",
        "print(df)\n"
      ],
      "metadata": {
        "colab": {
          "base_uri": "https://localhost:8080/"
        },
        "id": "6jrTgOLIYoIh",
        "outputId": "808b9a40-9830-4848-e0db-4d0cae7193a3"
      },
      "execution_count": 4,
      "outputs": [
        {
          "output_type": "stream",
          "name": "stdout",
          "text": [
            "0    10\n",
            "1    20\n",
            "2    30\n",
            "3    40\n",
            "4    50\n",
            "dtype: int64\n",
            "     Name  Age  Gender\n",
            "0   Alice   25  Female\n",
            "1     Bob   30    Male\n",
            "2  Claire   27  Female\n"
          ]
        }
      ]
    },
    {
      "cell_type": "markdown",
      "source": [
        "##Q5. What are some common functions you can use to manipulate data in a Pandas DataFrame? Can you give an example of when you might use one of these functions?\n",
        "\n",
        "####Pandas provides a wide range of functions for manipulating data in a DataFrame. Here are some of the commonly used functions:\n",
        "\n",
        "* head(n) and tail(n): These functions are used to display the first n rows or last n rows of a DataFrame, respectively. For example, df.head(10) will display the first 10 rows of a DataFrame df.\n",
        "\n",
        "* describe(): This function generates descriptive statistics of the DataFrame such as count, mean, standard deviation, minimum and maximum values, and quartiles. For example, df.describe() will display the summary statistics of a DataFrame df.\n",
        "\n",
        "* sort_values(): This function is used to sort the DataFrame by one or more columns. For example, df.sort_values('Age') will sort the DataFrame df by the 'Age' column in ascending order.\n",
        "\n",
        "* groupby(): This function is used to group the DataFrame by one or more columns and apply an aggregate function to each group. For example, df.groupby('Country')['Age'].mean() will group the DataFrame df by the 'Country' column and calculate the mean of the 'Age' column for each group.\n",
        "\n",
        "* drop(): This function is used to drop a column or row from the DataFrame. For example, df.drop('Country', axis=1) will drop the 'Country' column from the DataFrame df.\n",
        "\n",
        "* fillna(): This function is used to fill missing values in the DataFrame with a specified value or method. For example, df.fillna(0) will fill all missing values in the DataFrame df with zero.\n",
        "\n",
        "* apply(): This function is used to apply a function to each element of a column or row in the DataFrame. For example, df['Age'].apply(lambda x: x*2) will double the values in the 'Age' column of the DataFrame df.\n",
        "\n",
        "###One example of when you might use these functions is when we have a large dataset and we want to explore the data, clean it, and transform it into a useful format for analysis. We might use head() and tail() to get a quick look at the data, describe() to get a summary of the data, sort_values() to sort the data by a relevant column, groupby() to group the data by relevant categories, drop() to remove irrelevant columns or rows, fillna() to fill missing values, and apply() to transform the data. These functions can help us to  clean and transform the data into a format that is suitable for analysis."
      ],
      "metadata": {
        "id": "Ub7cumH3kHu0"
      }
    },
    {
      "cell_type": "code",
      "source": [],
      "metadata": {
        "id": "BszyFSOeju_6"
      },
      "execution_count": null,
      "outputs": []
    },
    {
      "cell_type": "markdown",
      "source": [
        "##Q6. Which of the following is mutable in nature Series, DataFrame, Panel?\n",
        "\n",
        "###Both Pandas Series and DataFrames are mutable in nature, meaning their values can be modified after they are created. However, Pandas Panel is mutable in nature. It allows modification of its values after it is created. However, it is now deprecated and no longer recommended for use. The recommended way to handle three-dimensional data in Pandas is to use a multi-index DataFrame."
      ],
      "metadata": {
        "id": "obMydtf-lI7w"
      }
    },
    {
      "cell_type": "markdown",
      "source": [
        "##Q7. Create a DataFrame using multiple Series. Explain with an example.\n",
        "\n",
        "###To create a Pandas DataFrame using multiple Series, we can pass a dictionary of Series to the pd.DataFrame() function. The keys of the dictionary represent the column names and the values represent the Series.\n",
        "\n",
        "* Here is an example:"
      ],
      "metadata": {
        "id": "9iyVEzySlia4"
      }
    },
    {
      "cell_type": "code",
      "source": [
        "import pandas as pd\n",
        "\n",
        "# create Series for name, age, and country\n",
        "name_series = pd.Series(['Rushikesh', 'Ravindra', 'Suvarna'])\n",
        "age_series = pd.Series([22, 60, 40])\n",
        "country_series = pd.Series(['USA', 'India', 'Canada'])\n",
        "\n",
        "# create DataFrame using dictionary of Series\n",
        "df = pd.DataFrame({\n",
        "    'Name': name_series,\n",
        "    'Age': age_series,\n",
        "    'Country': country_series\n",
        "})\n",
        "\n",
        "print(df)\n"
      ],
      "metadata": {
        "colab": {
          "base_uri": "https://localhost:8080/"
        },
        "id": "bHxhmQwalcty",
        "outputId": "b7e61b6e-d8a8-4150-c02a-d8c916e48aad"
      },
      "execution_count": 8,
      "outputs": [
        {
          "output_type": "stream",
          "name": "stdout",
          "text": [
            "        Name  Age Country\n",
            "0  Rushikesh   22     USA\n",
            "1   Ravindra   60   India\n",
            "2    Suvarna   40  Canada\n"
          ]
        }
      ]
    },
    {
      "cell_type": "code",
      "source": [],
      "metadata": {
        "id": "7F7pXtzvl4MQ"
      },
      "execution_count": null,
      "outputs": []
    }
  ]
}